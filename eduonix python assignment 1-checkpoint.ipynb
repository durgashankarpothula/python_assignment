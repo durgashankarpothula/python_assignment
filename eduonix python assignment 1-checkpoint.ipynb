{
 "cells": [
  {
   "cell_type": "code",
   "execution_count": 13,
   "id": "dc92da1b",
   "metadata": {},
   "outputs": [],
   "source": [
    "               #Assignment-1\n",
    "#1). Create a tuple called data with two values, (1, 2) and (3,4)\n",
    "#ans/code:-\n",
    "data=((1,2),(3,4)) #creating tuple named data"
   ]
  },
  {
   "cell_type": "code",
   "execution_count": 14,
   "id": "b4f70c68",
   "metadata": {},
   "outputs": [
    {
     "data": {
      "text/plain": [
       "((1, 2), (3, 4))"
      ]
     },
     "execution_count": 14,
     "metadata": {},
     "output_type": "execute_result"
    }
   ],
   "source": [
    "data #checking what has been stored in the tuple"
   ]
  },
  {
   "cell_type": "code",
   "execution_count": 15,
   "id": "ee65027a",
   "metadata": {},
   "outputs": [
    {
     "data": {
      "text/plain": [
       "tuple"
      ]
     },
     "execution_count": 15,
     "metadata": {},
     "output_type": "execute_result"
    }
   ],
   "source": [
    "type(data)  # checking the type of the variable"
   ]
  },
  {
   "cell_type": "code",
   "execution_count": null,
   "id": "8e7db5a1",
   "metadata": {},
   "outputs": [],
   "source": []
  },
  {
   "cell_type": "code",
   "execution_count": null,
   "id": "b9d4956b",
   "metadata": {},
   "outputs": [],
   "source": []
  },
  {
   "cell_type": "code",
   "execution_count": 16,
   "id": "43617275",
   "metadata": {},
   "outputs": [],
   "source": [
    "#2). create the list [4,3,2,1] and assign it to variable numbers.\n",
    "#ans/code:-\n",
    "numbers=[4,3,2,1] # creating list with the name of numbers"
   ]
  },
  {
   "cell_type": "code",
   "execution_count": 17,
   "id": "1dac37ef",
   "metadata": {},
   "outputs": [
    {
     "data": {
      "text/plain": [
       "[4, 3, 2, 1]"
      ]
     },
     "execution_count": 17,
     "metadata": {},
     "output_type": "execute_result"
    }
   ],
   "source": [
    "numbers #checking what has been stored in the list"
   ]
  },
  {
   "cell_type": "code",
   "execution_count": 18,
   "id": "daf83acc",
   "metadata": {},
   "outputs": [
    {
     "data": {
      "text/plain": [
       "list"
      ]
     },
     "execution_count": 18,
     "metadata": {},
     "output_type": "execute_result"
    }
   ],
   "source": [
    "type(numbers) # checking the type of the variable"
   ]
  },
  {
   "cell_type": "code",
   "execution_count": 19,
   "id": "f1f52562",
   "metadata": {},
   "outputs": [
    {
     "data": {
      "text/plain": [
       "[4, 3, 2, 1]"
      ]
     },
     "execution_count": 19,
     "metadata": {},
     "output_type": "execute_result"
    }
   ],
   "source": [
    "#3).create a copy of the number list using [:]\n",
    "#ans/code:-\n",
    "numbers"
   ]
  },
  {
   "cell_type": "code",
   "execution_count": 20,
   "id": "32778c77",
   "metadata": {},
   "outputs": [],
   "source": [
    "copy_of_numbers_list=numbers[:] #here i am selecting all the elements in the list named numbers by giving colon and storing them into the list named copy_of_numbers_list  "
   ]
  },
  {
   "cell_type": "code",
   "execution_count": 21,
   "id": "b9f28372",
   "metadata": {},
   "outputs": [
    {
     "data": {
      "text/plain": [
       "[4, 3, 2, 1]"
      ]
     },
     "execution_count": 21,
     "metadata": {},
     "output_type": "execute_result"
    }
   ],
   "source": [
    "copy_of_numbers_list #checking what has been stored in the list"
   ]
  },
  {
   "cell_type": "code",
   "execution_count": 22,
   "id": "8dbdfabf",
   "metadata": {},
   "outputs": [
    {
     "data": {
      "text/plain": [
       "list"
      ]
     },
     "execution_count": 22,
     "metadata": {},
     "output_type": "execute_result"
    }
   ],
   "source": [
    "type(copy_of_numbers_list)  # checking the type of the variable"
   ]
  },
  {
   "cell_type": "code",
   "execution_count": 23,
   "id": "9a144ea0",
   "metadata": {},
   "outputs": [],
   "source": [
    "#4).Sort the numbers list in numerical order\n",
    "#ans/code:-\n",
    "numbers=[34,32,4,55,2,76,788,97,65,44] # creating list with the name of numbers and putting some random numbers\n"
   ]
  },
  {
   "cell_type": "code",
   "execution_count": 24,
   "id": "ff9b565e",
   "metadata": {},
   "outputs": [
    {
     "data": {
      "text/plain": [
       "list"
      ]
     },
     "execution_count": 24,
     "metadata": {},
     "output_type": "execute_result"
    }
   ],
   "source": [
    "type(numbers) # checking the type of the variable"
   ]
  },
  {
   "cell_type": "code",
   "execution_count": 25,
   "id": "9f42fde9",
   "metadata": {},
   "outputs": [],
   "source": [
    "numbers.sort() #using sort function to sort the list in asscending order"
   ]
  },
  {
   "cell_type": "code",
   "execution_count": 26,
   "id": "48e2ee78",
   "metadata": {},
   "outputs": [
    {
     "data": {
      "text/plain": [
       "[2, 4, 32, 34, 44, 55, 65, 76, 97, 788]"
      ]
     },
     "execution_count": 26,
     "metadata": {},
     "output_type": "execute_result"
    }
   ],
   "source": [
    "numbers # checking the new sorted list"
   ]
  },
  {
   "cell_type": "code",
   "execution_count": 27,
   "id": "2ce2d0f9",
   "metadata": {},
   "outputs": [],
   "source": [
    "#5). Create a tuple \"cardinal_numbers\" with \"first\", \"second\" and \"third\"\n",
    "#ans/code:-\n",
    "cardinal_numbers=(\"first\", \"second\", \"third\")"
   ]
  },
  {
   "cell_type": "code",
   "execution_count": 28,
   "id": "6279bf1e",
   "metadata": {},
   "outputs": [
    {
     "data": {
      "text/plain": [
       "('first', 'second', 'third')"
      ]
     },
     "execution_count": 28,
     "metadata": {},
     "output_type": "execute_result"
    }
   ],
   "source": [
    "cardinal_numbers #checking what has been stored in the tuple"
   ]
  },
  {
   "cell_type": "code",
   "execution_count": 29,
   "id": "bbb2c591",
   "metadata": {},
   "outputs": [
    {
     "data": {
      "text/plain": [
       "tuple"
      ]
     },
     "execution_count": 29,
     "metadata": {},
     "output_type": "execute_result"
    }
   ],
   "source": [
    "type(cardinal_numbers) # checking the type of the variable"
   ]
  },
  {
   "cell_type": "code",
   "execution_count": null,
   "id": "90e47717",
   "metadata": {},
   "outputs": [],
   "source": []
  },
  {
   "cell_type": "code",
   "execution_count": 30,
   "id": "12b19fd5",
   "metadata": {},
   "outputs": [],
   "source": [
    "#6). display the second object in the tuple\n",
    "#ans/code:-\n",
    "name=('apple','grapes','banana','kiwi') # creating tuple \n"
   ]
  },
  {
   "cell_type": "code",
   "execution_count": 31,
   "id": "437357c5",
   "metadata": {},
   "outputs": [
    {
     "data": {
      "text/plain": [
       "tuple"
      ]
     },
     "execution_count": 31,
     "metadata": {},
     "output_type": "execute_result"
    }
   ],
   "source": [
    "type(name) # checking the type of the variable"
   ]
  },
  {
   "cell_type": "code",
   "execution_count": 32,
   "id": "19784828",
   "metadata": {},
   "outputs": [
    {
     "data": {
      "text/plain": [
       "('apple', 'grapes', 'banana', 'kiwi')"
      ]
     },
     "execution_count": 32,
     "metadata": {},
     "output_type": "execute_result"
    }
   ],
   "source": [
    "name #checking what has been stored in the tuple"
   ]
  },
  {
   "cell_type": "code",
   "execution_count": 33,
   "id": "9690915d",
   "metadata": {},
   "outputs": [],
   "source": [
    "name2=list(name) # converting the tuple into list using list() function and assigning it to \"name2\" named list"
   ]
  },
  {
   "cell_type": "code",
   "execution_count": 34,
   "id": "2d212f09",
   "metadata": {},
   "outputs": [
    {
     "data": {
      "text/plain": [
       "['apple', 'grapes', 'banana', 'kiwi']"
      ]
     },
     "execution_count": 34,
     "metadata": {},
     "output_type": "execute_result"
    }
   ],
   "source": [
    "name2 # checking the list variable"
   ]
  },
  {
   "cell_type": "code",
   "execution_count": 35,
   "id": "81510643",
   "metadata": {},
   "outputs": [
    {
     "data": {
      "text/plain": [
       "'grapes'"
      ]
     },
     "execution_count": 35,
     "metadata": {},
     "output_type": "execute_result"
    }
   ],
   "source": [
    "name2[1] # displaying the second variable of the list \"name2\""
   ]
  },
  {
   "cell_type": "code",
   "execution_count": null,
   "id": "94426952",
   "metadata": {},
   "outputs": [],
   "source": []
  },
  {
   "cell_type": "code",
   "execution_count": 36,
   "id": "993172cd",
   "metadata": {},
   "outputs": [],
   "source": [
    "#7). Unpack the tuple into three strings and display them\n",
    "#ans/code:-\n",
    "vehicles=('car','bus','bike','auto','truck') # creating tuple"
   ]
  },
  {
   "cell_type": "code",
   "execution_count": 37,
   "id": "f9278288",
   "metadata": {},
   "outputs": [
    {
     "data": {
      "text/plain": [
       "('car', 'bus', 'bike', 'auto', 'truck')"
      ]
     },
     "execution_count": 37,
     "metadata": {},
     "output_type": "execute_result"
    }
   ],
   "source": [
    "vehicles # checking the tuple values"
   ]
  },
  {
   "cell_type": "code",
   "execution_count": 38,
   "id": "ecd7baaa",
   "metadata": {},
   "outputs": [
    {
     "name": "stdout",
     "output_type": "stream",
     "text": [
      "car\n",
      "bus\n",
      "['bike', 'auto', 'truck']\n"
     ]
    }
   ],
   "source": [
    "(x,y,*z)=vehicles # unpacking the tuple using asterisk method, we use this when we try to unpack tuple but the number of variables are less than  number of values in the tuple\n",
    "print(x) # using variable x to print the first value \n",
    "print(y) #using variable y to print the second value\n",
    "print(z) #using variable z with * to print the remaining values of the tuple"
   ]
  },
  {
   "cell_type": "code",
   "execution_count": 39,
   "id": "460c33c4",
   "metadata": {},
   "outputs": [
    {
     "name": "stdout",
     "output_type": "stream",
     "text": [
      "[please enter your name:-]shankar\n",
      "thank you for your input:- \n",
      "displaying the name entered by you:) ['s', 'h', 'a', 'n', 'k', 'a', 'r']\n"
     ]
    }
   ],
   "source": [
    "#8).Create a tupple containing the letters of your name from a string\n",
    "#ans/code:-\n",
    "var=str(input(\"[please enter your name:-]\")) # taking input from the user in string format\n",
    "print(\"thank you for your input:- \") # printing a thank you message for giving the input\n",
    "list1=[] # creating a blank list to add items one by one using loop\n",
    "for i in var: # creating loop to access single-single values from string\n",
    "    list1.append(i) # adding the current letter from the string to list\n",
    "print(\"displaying the name entered by you:)\",list1) # displaying the list \n",
    "name_tuple=tuple(list1) # coverting the list into tupple"
   ]
  },
  {
   "cell_type": "code",
   "execution_count": 40,
   "id": "68ab3322",
   "metadata": {},
   "outputs": [
    {
     "data": {
      "text/plain": [
       "('s', 'h', 'a', 'n', 'k', 'a', 'r')"
      ]
     },
     "execution_count": 40,
     "metadata": {},
     "output_type": "execute_result"
    }
   ],
   "source": [
    "name_tuple # displaying the letters of the string in tupple format"
   ]
  },
  {
   "cell_type": "code",
   "execution_count": null,
   "id": "f7459e1f",
   "metadata": {},
   "outputs": [],
   "source": []
  },
  {
   "cell_type": "code",
   "execution_count": 41,
   "id": "e5d2292c",
   "metadata": {},
   "outputs": [
    {
     "name": "stdout",
     "output_type": "stream",
     "text": [
      "enter your name:- shankar\n",
      "you have entered:-  SHANKAR\n",
      "checking if x is present in your name--\n",
      "x not found in your name\n"
     ]
    }
   ],
   "source": [
    "#9). Check whether or not x is in my_name\n",
    "#ans/code:-\n",
    "string=str(input(\"enter your name:- \")) # taking input from the user in string format\n",
    "st=string.upper()\n",
    "print(\"you have entered:- \",st) # displaying the input taken from user\n",
    "print(\"checking if x is present in your name--\") #checking if x is present in given string\n",
    "if \"X\" in st: #using if condition to check if x present or not\n",
    "    print(\"x found in your name\") # displaying the message that x found in string\n",
    "else:\n",
    "    print(\"x not found in your name\") # displaying the message that x not found in string\n"
   ]
  },
  {
   "cell_type": "code",
   "execution_count": null,
   "id": "bc382d99",
   "metadata": {},
   "outputs": [],
   "source": []
  },
  {
   "cell_type": "code",
   "execution_count": 42,
   "id": "9aa5b3fe",
   "metadata": {},
   "outputs": [
    {
     "name": "stdout",
     "output_type": "stream",
     "text": [
      "enter your name:- shankar\n",
      "you have entered:-  SHANKAR\n",
      "checking if x is present in your name--\n",
      "S found in your name\n"
     ]
    }
   ],
   "source": [
    "#10). Check whether or not s is in my_name\n",
    "#ans/code:-\n",
    "string2=str(input(\"enter your name:- \")) # taking input from the user in string format\n",
    "st2=string2.upper()\n",
    "print(\"you have entered:- \",st2) # displaying the input taken from user\n",
    "print(\"checking if x is present in your name--\") #checking if s is present in given string\n",
    "if \"S\" in st2: #using if condition to check if s present or not\n",
    "    print(\"S found in your name\") # displaying the message that s found in string\n",
    "else:\n",
    "    print(\"S not found in your name\") # displaying the message that s not found in string\n"
   ]
  },
  {
   "cell_type": "code",
   "execution_count": null,
   "id": "403675c9",
   "metadata": {},
   "outputs": [],
   "source": []
  },
  {
   "cell_type": "code",
   "execution_count": null,
   "id": "cdf9ebe8",
   "metadata": {},
   "outputs": [],
   "source": []
  },
  {
   "cell_type": "code",
   "execution_count": null,
   "id": "c2f71c8b",
   "metadata": {},
   "outputs": [],
   "source": []
  }
 ],
 "metadata": {
  "kernelspec": {
   "display_name": "Python 3 (ipykernel)",
   "language": "python",
   "name": "python3"
  },
  "language_info": {
   "codemirror_mode": {
    "name": "ipython",
    "version": 3
   },
   "file_extension": ".py",
   "mimetype": "text/x-python",
   "name": "python",
   "nbconvert_exporter": "python",
   "pygments_lexer": "ipython3",
   "version": "3.9.7"
  }
 },
 "nbformat": 4,
 "nbformat_minor": 5
}
